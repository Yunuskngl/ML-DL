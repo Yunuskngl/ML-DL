{
 "cells": [
  {
   "cell_type": "code",
   "execution_count": 1,
   "metadata": {},
   "outputs": [
    {
     "ename": "ModuleNotFoundError",
     "evalue": "No module named 'numpy'",
     "output_type": "error",
     "traceback": [
      "\u001b[0;31m---------------------------------------------------------------------------\u001b[0m",
      "\u001b[0;31mModuleNotFoundError\u001b[0m                       Traceback (most recent call last)",
      "Cell \u001b[0;32mIn[1], line 1\u001b[0m\n\u001b[0;32m----> 1\u001b[0m \u001b[38;5;28;01mimport\u001b[39;00m \u001b[38;5;21;01mnumpy\u001b[39;00m \u001b[38;5;28;01mas\u001b[39;00m \u001b[38;5;21;01mnp\u001b[39;00m\n\u001b[1;32m      2\u001b[0m \u001b[38;5;28;01mimport\u001b[39;00m \u001b[38;5;21;01mpandas\u001b[39;00m \u001b[38;5;28;01mas\u001b[39;00m \u001b[38;5;21;01mpd\u001b[39;00m\n",
      "\u001b[0;31mModuleNotFoundError\u001b[0m: No module named 'numpy'"
     ]
    }
   ],
   "source": [
    "import numpy as np\n",
    "import pandas as pd\n",
    "\n"
   ]
  },
  {
   "cell_type": "code",
   "execution_count": 4,
   "metadata": {},
   "outputs": [
    {
     "ename": "NameError",
     "evalue": "name 'pd' is not defined",
     "output_type": "error",
     "traceback": [
      "\u001b[0;31m---------------------------------------------------------------------------\u001b[0m",
      "\u001b[0;31mNameError\u001b[0m                                 Traceback (most recent call last)",
      "Cell \u001b[0;32mIn[4], line 1\u001b[0m\n\u001b[0;32m----> 1\u001b[0m data_thyao_dortsaat \u001b[38;5;241m=\u001b[39m \u001b[43mpd\u001b[49m\u001b[38;5;241m.\u001b[39mread_excel(\u001b[38;5;124m'\u001b[39m\u001b[38;5;124mTHYAO_240Dk.xlsx\u001b[39m\u001b[38;5;124m'\u001b[39m)\n\u001b[1;32m      2\u001b[0m data_thyao_dortsaat\n",
      "\u001b[0;31mNameError\u001b[0m: name 'pd' is not defined"
     ]
    }
   ],
   "source": [
    "data_thyao_dortsaat = pd.read_excel('THYAO_240Dk.xlsx')\n",
    "data_thyao_dortsaat"
   ]
  },
  {
   "cell_type": "code",
   "execution_count": 5,
   "metadata": {},
   "outputs": [
    {
     "ename": "NameError",
     "evalue": "name 'data_thyao_dortsaat' is not defined",
     "output_type": "error",
     "traceback": [
      "\u001b[0;31m---------------------------------------------------------------------------\u001b[0m",
      "\u001b[0;31mNameError\u001b[0m                                 Traceback (most recent call last)",
      "Cell \u001b[0;32mIn[5], line 1\u001b[0m\n\u001b[0;32m----> 1\u001b[0m \u001b[43mdata_thyao_dortsaat\u001b[49m\u001b[38;5;241m.\u001b[39mdescribe()\n",
      "\u001b[0;31mNameError\u001b[0m: name 'data_thyao_dortsaat' is not defined"
     ]
    }
   ],
   "source": [
    "data_thyao_dortsaat.describe()"
   ]
  },
  {
   "cell_type": "code",
   "execution_count": 6,
   "metadata": {},
   "outputs": [
    {
     "ename": "NameError",
     "evalue": "name 'data_thyao_dortsaat' is not defined",
     "output_type": "error",
     "traceback": [
      "\u001b[0;31m---------------------------------------------------------------------------\u001b[0m",
      "\u001b[0;31mNameError\u001b[0m                                 Traceback (most recent call last)",
      "Cell \u001b[0;32mIn[6], line 1\u001b[0m\n\u001b[0;32m----> 1\u001b[0m \u001b[43mdata_thyao_dortsaat\u001b[49m\u001b[38;5;241m.\u001b[39misnull()\u001b[38;5;241m.\u001b[39msum()\u001b[38;5;241m.\u001b[39msort_values(ascending\u001b[38;5;241m=\u001b[39m\u001b[38;5;28;01mFalse\u001b[39;00m)\n",
      "\u001b[0;31mNameError\u001b[0m: name 'data_thyao_dortsaat' is not defined"
     ]
    }
   ],
   "source": [
    "data_thyao_dortsaat.isnull().sum().sort_values(ascending=False)"
   ]
  },
  {
   "cell_type": "code",
   "execution_count": 7,
   "metadata": {},
   "outputs": [
    {
     "ename": "ModuleNotFoundError",
     "evalue": "No module named 'numpy'",
     "output_type": "error",
     "traceback": [
      "\u001b[0;31m---------------------------------------------------------------------------\u001b[0m",
      "\u001b[0;31mModuleNotFoundError\u001b[0m                       Traceback (most recent call last)",
      "Cell \u001b[0;32mIn[7], line 2\u001b[0m\n\u001b[1;32m      1\u001b[0m \u001b[38;5;66;03m#model deneyelim \u001b[39;00m\n\u001b[0;32m----> 2\u001b[0m \u001b[38;5;28;01mimport\u001b[39;00m \u001b[38;5;21;01mnumpy\u001b[39;00m \u001b[38;5;28;01mas\u001b[39;00m \u001b[38;5;21;01mnp\u001b[39;00m\n\u001b[1;32m      3\u001b[0m \u001b[38;5;28;01mimport\u001b[39;00m \u001b[38;5;21;01mpandas\u001b[39;00m \u001b[38;5;28;01mas\u001b[39;00m \u001b[38;5;21;01mpd\u001b[39;00m\n\u001b[1;32m      4\u001b[0m \u001b[38;5;28;01mimport\u001b[39;00m \u001b[38;5;21;01mmatplotlib\u001b[39;00m\u001b[38;5;21;01m.\u001b[39;00m\u001b[38;5;21;01mpyplot\u001b[39;00m \u001b[38;5;28;01mas\u001b[39;00m \u001b[38;5;21;01mplt\u001b[39;00m\n",
      "\u001b[0;31mModuleNotFoundError\u001b[0m: No module named 'numpy'"
     ]
    }
   ],
   "source": [
    "#model deneyelim \n",
    "import numpy as np\n",
    "import pandas as pd\n",
    "import matplotlib.pyplot as plt\n",
    "import seaborn as sns\n",
    "import plotly.graph_objects as go\n",
    "import os\n",
    "\n",
    "from sklearn.preprocessing import MinMaxScaler\n",
    "\n"
   ]
  },
  {
   "cell_type": "code",
   "execution_count": 8,
   "metadata": {},
   "outputs": [
    {
     "ename": "NameError",
     "evalue": "name 'data_thyao_dortsaat' is not defined",
     "output_type": "error",
     "traceback": [
      "\u001b[0;31m---------------------------------------------------------------------------\u001b[0m",
      "\u001b[0;31mNameError\u001b[0m                                 Traceback (most recent call last)",
      "Cell \u001b[0;32mIn[8], line 1\u001b[0m\n\u001b[0;32m----> 1\u001b[0m df \u001b[38;5;241m=\u001b[39m \u001b[43mdata_thyao_dortsaat\u001b[49m[[\u001b[38;5;124m'\u001b[39m\u001b[38;5;124mDate\u001b[39m\u001b[38;5;124m'\u001b[39m, \u001b[38;5;124m'\u001b[39m\u001b[38;5;124mOpen\u001b[39m\u001b[38;5;124m'\u001b[39m, \u001b[38;5;124m'\u001b[39m\u001b[38;5;124mHigh\u001b[39m\u001b[38;5;124m'\u001b[39m, \u001b[38;5;124m'\u001b[39m\u001b[38;5;124mLow\u001b[39m\u001b[38;5;124m'\u001b[39m, \u001b[38;5;124m'\u001b[39m\u001b[38;5;124mClose\u001b[39m\u001b[38;5;124m'\u001b[39m, \u001b[38;5;124m'\u001b[39m\u001b[38;5;124mMACD (26,12)   \u001b[39m\u001b[38;5;124m'\u001b[39m, \u001b[38;5;124m'\u001b[39m\u001b[38;5;124mTRIGGER (9)   \u001b[39m\u001b[38;5;124m'\u001b[39m, \u001b[38;5;124m'\u001b[39m\u001b[38;5;124mBOL U (20,2)   \u001b[39m\u001b[38;5;124m'\u001b[39m, \u001b[38;5;124m'\u001b[39m\u001b[38;5;124mBOL M (20,2)   \u001b[39m\u001b[38;5;124m'\u001b[39m, \u001b[38;5;124m'\u001b[39m\u001b[38;5;124mBOL D (20,2)   \u001b[39m\u001b[38;5;124m'\u001b[39m, \u001b[38;5;124m'\u001b[39m\u001b[38;5;124mRSI (14)   \u001b[39m\u001b[38;5;124m'\u001b[39m]]\n\u001b[1;32m      2\u001b[0m df_timestamp \u001b[38;5;241m=\u001b[39m data_thyao_dortsaat[[\u001b[38;5;124m\"\u001b[39m\u001b[38;5;124mDate\u001b[39m\u001b[38;5;124m\"\u001b[39m]]\n\u001b[1;32m      3\u001b[0m df_ \u001b[38;5;241m=\u001b[39m df[[\u001b[38;5;124m'\u001b[39m\u001b[38;5;124mOpen\u001b[39m\u001b[38;5;124m'\u001b[39m, \u001b[38;5;124m'\u001b[39m\u001b[38;5;124mHigh\u001b[39m\u001b[38;5;124m'\u001b[39m, \u001b[38;5;124m'\u001b[39m\u001b[38;5;124mLow\u001b[39m\u001b[38;5;124m'\u001b[39m, \u001b[38;5;124m'\u001b[39m\u001b[38;5;124mClose\u001b[39m\u001b[38;5;124m'\u001b[39m, \u001b[38;5;124m'\u001b[39m\u001b[38;5;124mMACD (26,12)   \u001b[39m\u001b[38;5;124m'\u001b[39m, \u001b[38;5;124m'\u001b[39m\u001b[38;5;124mTRIGGER (9)   \u001b[39m\u001b[38;5;124m'\u001b[39m, \u001b[38;5;124m'\u001b[39m\u001b[38;5;124mBOL U (20,2)   \u001b[39m\u001b[38;5;124m'\u001b[39m, \u001b[38;5;124m'\u001b[39m\u001b[38;5;124mBOL M (20,2)   \u001b[39m\u001b[38;5;124m'\u001b[39m, \u001b[38;5;124m'\u001b[39m\u001b[38;5;124mBOL D (20,2)   \u001b[39m\u001b[38;5;124m'\u001b[39m, \u001b[38;5;124m'\u001b[39m\u001b[38;5;124mRSI (14)   \u001b[39m\u001b[38;5;124m'\u001b[39m]]\n",
      "\u001b[0;31mNameError\u001b[0m: name 'data_thyao_dortsaat' is not defined"
     ]
    }
   ],
   "source": [
    "df = data_thyao_dortsaat[['Date', 'Open', 'High', 'Low', 'Close', 'MACD (26,12)   ', 'TRIGGER (9)   ', 'BOL U (20,2)   ', 'BOL M (20,2)   ', 'BOL D (20,2)   ', 'RSI (14)   ']]\n",
    "df_timestamp = data_thyao_dortsaat[[\"Date\"]]\n",
    "df_ = df[['Open', 'High', 'Low', 'Close', 'MACD (26,12)   ', 'TRIGGER (9)   ', 'BOL U (20,2)   ', 'BOL M (20,2)   ', 'BOL D (20,2)   ', 'RSI (14)   ']]\n",
    "#df_ = df[['Close', 'MACD (26,12)   ', 'TRIGGER (9)   ', 'BOL U (20,2)   ', 'BOL M (20,2)   ', 'BOL D (20,2)   ', 'RSI (14)   ']]\n",
    "\n",
    "df_"
   ]
  },
  {
   "cell_type": "code",
   "execution_count": 9,
   "metadata": {},
   "outputs": [
    {
     "ename": "NameError",
     "evalue": "name 'df_' is not defined",
     "output_type": "error",
     "traceback": [
      "\u001b[0;31m---------------------------------------------------------------------------\u001b[0m",
      "\u001b[0;31mNameError\u001b[0m                                 Traceback (most recent call last)",
      "Cell \u001b[0;32mIn[9], line 3\u001b[0m\n\u001b[1;32m      1\u001b[0m \u001b[38;5;66;03m#cols_corr = ['Open', 'High', 'Low', 'Close', 'MACD (26,12)   ', 'TRIGGER (9)   ', 'BOL U (20,2)   ', 'BOL M (20,2)   ', 'BOL D (20,2)   ', 'RSI (14)   ' ,'HOURS', 'MINUTES', 'MINUTES_PASS']\u001b[39;00m\n\u001b[1;32m      2\u001b[0m cols_corr \u001b[38;5;241m=\u001b[39m [\u001b[38;5;124m'\u001b[39m\u001b[38;5;124mClose\u001b[39m\u001b[38;5;124m'\u001b[39m, \u001b[38;5;124m'\u001b[39m\u001b[38;5;124mMACD (26,12)   \u001b[39m\u001b[38;5;124m'\u001b[39m, \u001b[38;5;124m'\u001b[39m\u001b[38;5;124mTRIGGER (9)   \u001b[39m\u001b[38;5;124m'\u001b[39m, \u001b[38;5;124m'\u001b[39m\u001b[38;5;124mBOL U (20,2)   \u001b[39m\u001b[38;5;124m'\u001b[39m, \u001b[38;5;124m'\u001b[39m\u001b[38;5;124mBOL M (20,2)   \u001b[39m\u001b[38;5;124m'\u001b[39m, \u001b[38;5;124m'\u001b[39m\u001b[38;5;124mBOL D (20,2)   \u001b[39m\u001b[38;5;124m'\u001b[39m, \u001b[38;5;124m'\u001b[39m\u001b[38;5;124mRSI (14)   \u001b[39m\u001b[38;5;124m'\u001b[39m]\n\u001b[0;32m----> 3\u001b[0m corrMatrix \u001b[38;5;241m=\u001b[39m \u001b[43mdf_\u001b[49m[cols_corr]\u001b[38;5;241m.\u001b[39mcorr()\n\u001b[1;32m      4\u001b[0m plt\u001b[38;5;241m.\u001b[39mfigure(figsize\u001b[38;5;241m=\u001b[39m(\u001b[38;5;241m15\u001b[39m,\u001b[38;5;241m5\u001b[39m))\n\u001b[1;32m      5\u001b[0m fig_corr \u001b[38;5;241m=\u001b[39m sns\u001b[38;5;241m.\u001b[39mheatmap(corrMatrix, annot\u001b[38;5;241m=\u001b[39m\u001b[38;5;28;01mTrue\u001b[39;00m)\n",
      "\u001b[0;31mNameError\u001b[0m: name 'df_' is not defined"
     ]
    }
   ],
   "source": [
    "#cols_corr = ['Open', 'High', 'Low', 'Close', 'MACD (26,12)   ', 'TRIGGER (9)   ', 'BOL U (20,2)   ', 'BOL M (20,2)   ', 'BOL D (20,2)   ', 'RSI (14)   ' ,'HOURS', 'MINUTES', 'MINUTES_PASS']\n",
    "cols_corr = ['Close', 'MACD (26,12)   ', 'TRIGGER (9)   ', 'BOL U (20,2)   ', 'BOL M (20,2)   ', 'BOL D (20,2)   ', 'RSI (14)   ']\n",
    "corrMatrix = df_[cols_corr].corr()\n",
    "plt.figure(figsize=(15,5))\n",
    "fig_corr = sns.heatmap(corrMatrix, annot=True)\n",
    "plt.show()"
   ]
  },
  {
   "cell_type": "code",
   "execution_count": 10,
   "metadata": {},
   "outputs": [
    {
     "ename": "NameError",
     "evalue": "name 'df_' is not defined",
     "output_type": "error",
     "traceback": [
      "\u001b[0;31m---------------------------------------------------------------------------\u001b[0m",
      "\u001b[0;31mNameError\u001b[0m                                 Traceback (most recent call last)",
      "Cell \u001b[0;32mIn[10], line 1\u001b[0m\n\u001b[0;32m----> 1\u001b[0m \u001b[43mdf_\u001b[49m[[\u001b[38;5;124m'\u001b[39m\u001b[38;5;124mMACD (26,12)   \u001b[39m\u001b[38;5;124m'\u001b[39m, \u001b[38;5;124m'\u001b[39m\u001b[38;5;124mTRIGGER (9)   \u001b[39m\u001b[38;5;124m'\u001b[39m]]\n",
      "\u001b[0;31mNameError\u001b[0m: name 'df_' is not defined"
     ]
    }
   ],
   "source": [
    "df_[['MACD (26,12)   ', 'TRIGGER (9)   ']]"
   ]
  },
  {
   "cell_type": "code",
   "execution_count": 11,
   "metadata": {},
   "outputs": [
    {
     "ename": "NameError",
     "evalue": "name 'df_' is not defined",
     "output_type": "error",
     "traceback": [
      "\u001b[0;31m---------------------------------------------------------------------------\u001b[0m",
      "\u001b[0;31mNameError\u001b[0m                                 Traceback (most recent call last)",
      "Cell \u001b[0;32mIn[11], line 1\u001b[0m\n\u001b[0;32m----> 1\u001b[0m \u001b[43mdf_\u001b[49m[[\u001b[38;5;124m'\u001b[39m\u001b[38;5;124mTRIGGER (9)   \u001b[39m\u001b[38;5;124m'\u001b[39m]]\n",
      "\u001b[0;31mNameError\u001b[0m: name 'df_' is not defined"
     ]
    }
   ],
   "source": [
    "df_[['TRIGGER (9)   ']]"
   ]
  },
  {
   "cell_type": "markdown",
   "metadata": {},
   "source": [
    "MACD ile Trigger arasındaki bağlantı\n",
    "MACD ile Trigger arasındaki bağlantıyı koda yansıtılması lazım\n",
    "\n",
    "Sonuçları is_bigger sütununa eklenecek\n",
    "İki değerde 0 ın altında iken MACD'nin Triggerı geçtiği kesinti anındaki ilk an 1 döndürülmeli\n",
    "İki değerin herhangi kesme durumu olmadığı durumlarda 0 döndürmeli\n",
    "İki değerde 1 in üstündeyken MACD'nin Trigger'dan az olduğu kesinti anındaki ilk an -1 döndürülmeli\n"
   ]
  },
  {
   "cell_type": "code",
   "execution_count": 12,
   "metadata": {},
   "outputs": [
    {
     "ename": "NameError",
     "evalue": "name 'df_' is not defined",
     "output_type": "error",
     "traceback": [
      "\u001b[0;31m---------------------------------------------------------------------------\u001b[0m",
      "\u001b[0;31mNameError\u001b[0m                                 Traceback (most recent call last)",
      "Cell \u001b[0;32mIn[12], line 2\u001b[0m\n\u001b[1;32m      1\u001b[0m \u001b[38;5;66;03m#İstenilen algoritma \u001b[39;00m\n\u001b[0;32m----> 2\u001b[0m \u001b[43mdf_\u001b[49m[\u001b[38;5;124m'\u001b[39m\u001b[38;5;124mis_bigger\u001b[39m\u001b[38;5;124m'\u001b[39m] \u001b[38;5;241m=\u001b[39m \u001b[38;5;241m0\u001b[39m\n\u001b[1;32m      4\u001b[0m \u001b[38;5;28;01mfor\u001b[39;00m i \u001b[38;5;129;01min\u001b[39;00m \u001b[38;5;28mrange\u001b[39m(\u001b[38;5;241m1\u001b[39m, \u001b[38;5;28mlen\u001b[39m(df_)):\n\u001b[1;32m      5\u001b[0m     \u001b[38;5;28;01mif\u001b[39;00m (df_[\u001b[38;5;124m'\u001b[39m\u001b[38;5;124mMACD (26,12)   \u001b[39m\u001b[38;5;124m'\u001b[39m][i] \u001b[38;5;241m>\u001b[39m \u001b[38;5;241m0\u001b[39m \u001b[38;5;129;01mand\u001b[39;00m df_[\u001b[38;5;124m'\u001b[39m\u001b[38;5;124mTRIGGER (9)   \u001b[39m\u001b[38;5;124m'\u001b[39m][i] \u001b[38;5;241m>\u001b[39m \u001b[38;5;241m0\u001b[39m):\n",
      "\u001b[0;31mNameError\u001b[0m: name 'df_' is not defined"
     ]
    }
   ],
   "source": [
    "#İstenilen algoritma \n",
    "df_['is_bigger'] = 0\n",
    "\n",
    "for i in range(1, len(df_)):\n",
    "    if (df_['MACD (26,12)   '][i] > 0 and df_['TRIGGER (9)   '][i] > 0):\n",
    "        if (df_['MACD (26,12)   '][i] < df_['TRIGGER (9)   '][i] and df_['MACD (26,12)   '][i-1] >= df_['TRIGGER (9)   '][i-1]):\n",
    "            df_['is_bigger'][i] = -1\n",
    "    elif (df_['MACD (26,12)   '][i] < 0 and df_['TRIGGER (9)   '][i] < 0):\n",
    "        if (df_['MACD (26,12)   '][i] > df_['TRIGGER (9)   '][i] and df_['MACD (26,12)   '][i-1] <= df_['TRIGGER (9)   '][i-1]):\n",
    "            df_['is_bigger'][i] = 1\n",
    "\n",
    "df_['is_bigger']\n",
    "\n",
    "        \n",
    "\n",
    "\n",
    "\n",
    "\n",
    "\n",
    "\n",
    "\n",
    "\n",
    "\n",
    "\n",
    "\n",
    "\n",
    "\n",
    "\n",
    "\n"
   ]
  },
  {
   "cell_type": "code",
   "execution_count": 13,
   "metadata": {},
   "outputs": [
    {
     "ename": "NameError",
     "evalue": "name 'df_' is not defined",
     "output_type": "error",
     "traceback": [
      "\u001b[0;31m---------------------------------------------------------------------------\u001b[0m",
      "\u001b[0;31mNameError\u001b[0m                                 Traceback (most recent call last)",
      "Cell \u001b[0;32mIn[13], line 48\u001b[0m\n\u001b[1;32m      1\u001b[0m \u001b[38;5;124;03m\"\"\"Stokastik RSI (Stochastic Relative Strength Index), geleneksel RSI göstergesinin stokastik osilatör ile birleştirilmiş halidir. Bu gösterge, fiyatların belirli bir zaman dilimindeki göreceli gücünü ölçmek için kullanılır ve daha hassas alım satım sinyalleri üretebilir. Stokastik RSI, RSI değerlerini stokastik osilatör formülüyle hesaplayarak, RSI'nın aşırı alım ve aşırı satım seviyelerini daha hızlı ve daha duyarlı bir şekilde tespit etmeyi sağlar.\u001b[39;00m\n\u001b[1;32m      2\u001b[0m \n\u001b[1;32m      3\u001b[0m \u001b[38;5;124;03mStokastik RSI Nedir?\u001b[39;00m\n\u001b[0;32m   (...)\u001b[0m\n\u001b[1;32m     45\u001b[0m \u001b[38;5;124;03msatış sinyalinde -1\u001b[39;00m\n\u001b[1;32m     46\u001b[0m \u001b[38;5;124;03maşırı satış sinyalinde -2  \"\"\"\u001b[39;00m\n\u001b[0;32m---> 48\u001b[0m \u001b[43mdf_\u001b[49m[\u001b[38;5;124m'\u001b[39m\u001b[38;5;124mstoch_rsi\u001b[39m\u001b[38;5;124m'\u001b[39m] \u001b[38;5;241m=\u001b[39m \u001b[38;5;241m0\u001b[39m\n\u001b[1;32m     50\u001b[0m \u001b[38;5;28;01mfor\u001b[39;00m i \u001b[38;5;129;01min\u001b[39;00m \u001b[38;5;28mrange\u001b[39m(\u001b[38;5;241m1\u001b[39m, \u001b[38;5;28mlen\u001b[39m(df_)):\n\u001b[1;32m     51\u001b[0m     \u001b[38;5;28;01mif\u001b[39;00m (df_[\u001b[38;5;124m'\u001b[39m\u001b[38;5;124mRSI (14)   \u001b[39m\u001b[38;5;124m'\u001b[39m][i] \u001b[38;5;241m>\u001b[39m \u001b[38;5;241m80\u001b[39m):\n",
      "\u001b[0;31mNameError\u001b[0m: name 'df_' is not defined"
     ]
    }
   ],
   "source": [
    "\"\"\"Stokastik RSI (Stochastic Relative Strength Index), geleneksel RSI göstergesinin stokastik osilatör ile birleştirilmiş halidir. Bu gösterge, fiyatların belirli bir zaman dilimindeki göreceli gücünü ölçmek için kullanılır ve daha hassas alım satım sinyalleri üretebilir. Stokastik RSI, RSI değerlerini stokastik osilatör formülüyle hesaplayarak, RSI'nın aşırı alım ve aşırı satım seviyelerini daha hızlı ve daha duyarlı bir şekilde tespit etmeyi sağlar.\n",
    "\n",
    "Stokastik RSI Nedir?\n",
    "\n",
    "Stokastik RSI, RSI değerlerinin stokastik osilatör formülü kullanılarak hesaplanmasıyla elde edilir. Bu, yatırımcılara geleneksel RSI'ya göre daha hassas sinyaller sağlar ve kısa vadeli fiyat hareketlerini daha iyi analiz etmelerine yardımcı olur.\n",
    "\n",
    "Stokastik RSI Nasıl Hesaplanır?\n",
    "\n",
    "Stokastik RSI hesaplaması şu adımlarla yapılır:\n",
    "\n",
    "1. RSI Hesaplanması: İlk olarak, belirlenen zaman dilimi için RSI değerleri hesaplanır.\n",
    "\n",
    "2. Stokastik RSI Hesaplanması: Daha sonra, bu RSI değerleri stokastik osilatör formülü ile işlenir:\n",
    "\n",
    "Stokastik RSI=RSI−Minimum RSIMaksimum RSI−Minimum RSI\\text{Stokastik RSI} = \\frac{\\text{RSI} - \\text{Minimum RSI}}{\\text{Maksimum RSI} - \\text{Minimum RSI}}Stokastik RSI=Maksimum RSI−Minimum RSIRSI−Minimum RSI\n",
    "\n",
    "Bu formül, RSI değerlerinin belirli bir dönem içindeki en düşük ve en yüksek değerleri arasındaki konumunu belirler.\n",
    "\n",
    "Stokastik RSI Nasıl Kullanılır?\n",
    "\n",
    "Stokastik RSI, genellikle aşırı alım ve aşırı satım seviyelerini belirlemek için kullanılır. Kullanım şekli geleneksel RSI ve stokastik osilatöre benzerdir:\n",
    "\n",
    "1. Aşırı Alım ve Aşırı Satım Seviyeleri:\n",
    "\n",
    "o Aşırı Alım: Stokastik RSI değeri 80'in üzerinde ise, varlık aşırı alım bölgesinde kabul edilir ve fiyatların düşme olasılığı artar.\n",
    "\n",
    "o Aşırı Satım: Stokastik RSI değeri 20'nin altında ise, varlık aşırı satım bölgesinde kabul edilir ve fiyatların yükselme olasılığı artar.\n",
    "\n",
    "2. Uyumsuzluklar (Diverjans):\n",
    "\n",
    "o Boğa Uyumsuzluğu (Bullish Divergence): Fiyatlar düşerken stokastik RSI yükseliyorsa, bu fiyatların toparlanabileceğine işaret eder.\n",
    "\n",
    "o Ayı Uyumsuzluğu (Bearish Divergence): Fiyatlar yükselirken stokastik RSI düşüyorsa, bu fiyatların düşebileceğine işaret eder.\n",
    "\n",
    "3. Kesişimler (Crossovers):\n",
    "\n",
    "o Alış Sinyali: Stokastik RSI değeri 20'nin altına düştüğünde ve sonra tekrar yukarıya doğru geçtiğinde alış sinyali oluşur.\n",
    "\n",
    "o Satış Sinyali: Stokastik RSI değeri 80'in üzerine çıktığında ve sonra tekrar aşağıya doğru geçtiğinde satış sinyali oluşur.\n",
    "\n",
    "\n",
    "aşırı alım sinyalinde +2 \n",
    "alım sinyalinde +1\n",
    "normal seyirde 0 ü\n",
    "satış sinyalinde -1\n",
    "aşırı satış sinyalinde -2  \"\"\"\n",
    "\n",
    "df_['stoch_rsi'] = 0\n",
    "\n",
    "for i in range(1, len(df_)):\n",
    "    if (df_['RSI (14)   '][i] > 80):\n",
    "        df_['stoch_rsi'][i] = -2\n",
    "    elif (df_['RSI (14)   '][i] > 70):\n",
    "        df_['stoch_rsi'][i] = -1\n",
    "    elif (df_['RSI (14)   '][i] < 20):\n",
    "        df_['stoch_rsi'][i] = 2\n",
    "    elif (df_['RSI (14)   '][i] < 30):\n",
    "        df_['stoch_rsi'][i] = 1\n",
    "        \n",
    "df_['stoch_rsi']    \n",
    "\n"
   ]
  },
  {
   "cell_type": "code",
   "execution_count": null,
   "metadata": {},
   "outputs": [],
   "source": []
  },
  {
   "cell_type": "code",
   "execution_count": null,
   "metadata": {},
   "outputs": [],
   "source": []
  },
  {
   "cell_type": "code",
   "execution_count": null,
   "metadata": {},
   "outputs": [],
   "source": []
  },
  {
   "cell_type": "code",
   "execution_count": null,
   "metadata": {},
   "outputs": [],
   "source": []
  }
 ],
 "metadata": {
  "kernelspec": {
   "display_name": "base",
   "language": "python",
   "name": "python3"
  },
  "language_info": {
   "codemirror_mode": {
    "name": "ipython",
    "version": 3
   },
   "file_extension": ".py",
   "mimetype": "text/x-python",
   "name": "python",
   "nbconvert_exporter": "python",
   "pygments_lexer": "ipython3",
   "version": "3.9.6"
  }
 },
 "nbformat": 4,
 "nbformat_minor": 2
}
